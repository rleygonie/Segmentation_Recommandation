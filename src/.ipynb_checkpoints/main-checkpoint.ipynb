{
 "cells": [
  {
   "cell_type": "markdown",
   "metadata": {},
   "source": [
    "# PROJET"
   ]
  },
  {
   "cell_type": "markdown",
   "metadata": {},
   "source": [
    "## Partie 1 : Segmentation de clients"
   ]
  },
  {
   "cell_type": "code",
   "execution_count": 2,
   "metadata": {},
   "outputs": [],
   "source": [
    "import warnings\n",
    "warnings.filterwarnings('ignore')\n",
    "\n",
    "import os\n",
    "os.chdir('..')\n",
    "\n",
    "from utils.preprocessing import *\n",
    "from utils.model import *\n",
    "\n",
    "from annexe.find_best_models import *\n",
    "\n",
    "import matplotlib.pyplot as plt\n",
    "import seaborn as sns\n",
    "plt.rcParams['figure.figsize'] = (18, 8)"
   ]
  },
  {
   "cell_type": "markdown",
   "metadata": {},
   "source": [
    "### Préparation des données de clients"
   ]
  },
  {
   "cell_type": "code",
   "execution_count": 2,
   "metadata": {},
   "outputs": [],
   "source": [
    "data_customers = spark.read.csv(\"../input_data/Mall_Customers.csv\", inferSchema=True, header=True)"
   ]
  },
  {
   "cell_type": "code",
   "execution_count": 3,
   "metadata": {},
   "outputs": [],
   "source": [
    "indexed_customers = index_customers_data(data_customers)"
   ]
  },
  {
   "cell_type": "code",
   "execution_count": 4,
   "metadata": {},
   "outputs": [],
   "source": [
    "vector_customers = vectoriz_customers_data(indexed_customers)"
   ]
  },
  {
   "cell_type": "markdown",
   "metadata": {},
   "source": [
    "### Choix du meilleur modèle de clustering pour regrouper les clients par segments"
   ]
  },
  {
   "cell_type": "markdown",
   "metadata": {},
   "source": [
    "### Modèle de clustering :  KMEANS "
   ]
  },
  {
   "cell_type": "code",
   "execution_count": 5,
   "metadata": {},
   "outputs": [
    {
     "name": "stdout",
     "output_type": "stream",
     "text": [
      "k= 2\n",
      "Silhouette with squared euclidean distance = 0.43400002645965047\n",
      "Cluster Centers: \n",
      "[28.95294118 62.17647059  0.44705882 73.62352941]\n",
      "\n",
      "[46.16521739 59.36521739  0.43478261 32.88695652]\n",
      "\n",
      "k= 3\n",
      "Silhouette with squared euclidean distance = 0.4509096090363873\n",
      "Cluster Centers: \n",
      "[26.5952381  33.14285714  0.38095238 65.66666667]\n",
      "\n",
      "[45.30769231 60.52991453  0.45299145 34.47008547]\n",
      "\n",
      "[32.97560976 88.73170732  0.46341463 79.24390244]\n",
      "\n",
      "k= 4\n",
      "Silhouette with squared euclidean distance = 0.5730674389796758\n",
      "Cluster Centers: \n",
      "[40.32432432 87.43243243  0.51351351 18.18918919]\n",
      "\n",
      "[32.69230769 86.53846154  0.46153846 82.12820513]\n",
      "\n",
      "[44.875      48.9375      0.38541667 42.55208333]\n",
      "\n",
      "[24.82142857 28.71428571  0.5        74.25      ]\n",
      "\n",
      "k= 5\n",
      "Silhouette with squared euclidean distance = 0.6276007113904088\n",
      "Cluster Centers: \n",
      "[24.96 28.04  0.44 77.  ]\n",
      "\n",
      "[45.2173913  26.30434783  0.39130435 20.91304348]\n",
      "\n",
      "[40.32432432 87.43243243  0.51351351 18.18918919]\n",
      "\n",
      "[32.69230769 86.53846154  0.46153846 82.12820513]\n",
      "\n",
      "[43.93421053 55.21052632  0.40789474 49.44736842]\n",
      "\n",
      "k= 6\n",
      "Silhouette with squared euclidean distance = 0.5976526677575683\n",
      "Cluster Centers: \n",
      "[43.28571429 54.81818182  0.41558442 49.88311688]\n",
      "\n",
      "[32.69230769 86.53846154  0.46153846 82.12820513]\n",
      "\n",
      "[25.52173913 26.30434783  0.39130435 78.56521739]\n",
      "\n",
      "[ 42.63636364 108.18181818   0.36363636  21.27272727]\n",
      "\n",
      "[39.48148148 78.37037037  0.59259259 17.55555556]\n",
      "\n",
      "[45.2173913  26.30434783  0.39130435 20.91304348]\n",
      "\n",
      "k= 7\n",
      "Silhouette with squared euclidean distance = 0.6240344630429748\n",
      "Cluster Centers: \n",
      "[27.10810811 56.2972973   0.35135135 49.67567568]\n",
      "\n",
      "[56.34090909 53.70454545  0.43181818 49.38636364]\n",
      "\n",
      "[25.27272727 25.72727273  0.40909091 79.36363636]\n",
      "\n",
      "[ 41.  109.7   0.3  22. ]\n",
      "\n",
      "[41.23076923 79.26923077  0.65384615 15.92307692]\n",
      "\n",
      "[44.31818182 25.77272727  0.40909091 20.27272727]\n",
      "\n",
      "[32.69230769 86.53846154  0.46153846 82.12820513]\n",
      "\n",
      "k= 8\n",
      "Silhouette with squared euclidean distance = 0.6055790634335472\n",
      "Cluster Centers: \n",
      "[27.16666667 55.86111111  0.36111111 50.11111111]\n",
      "\n",
      "[44.14285714 25.14285714  0.38095238 19.52380952]\n",
      "\n",
      "[56.15555556 53.37777778  0.44444444 49.08888889]\n",
      "\n",
      "[25.27272727 25.72727273  0.40909091 79.36363636]\n",
      "\n",
      "[27.2 76.8  0.7 12.9]\n",
      "\n",
      "[47.76190476 83.80952381  0.52380952 20.42857143]\n",
      "\n",
      "[ 38.66666667 117.           0.33333333  18.33333333]\n",
      "\n",
      "[32.69230769 86.53846154  0.46153846 82.12820513]\n",
      "\n",
      "k= 9\n",
      "Silhouette with squared euclidean distance = 0.5981842563048866\n",
      "Cluster Centers: \n",
      "[27.         56.65789474  0.34210526 49.13157895]\n",
      "\n",
      "[44.31818182 25.77272727  0.40909091 20.27272727]\n",
      "\n",
      "[25.27272727 25.72727273  0.40909091 79.36363636]\n",
      "\n",
      "[ 41.  109.7   0.3  22. ]\n",
      "\n",
      "[32.76 76.96  0.48 80.8 ]\n",
      "\n",
      "[56.34090909 53.70454545  0.43181818 49.38636364]\n",
      "\n",
      "[41.96 79.64  0.68 15.4 ]\n",
      "\n",
      "[ 33.75 124.     0.5   81.75]\n",
      "\n",
      "[32.1 95.5  0.4 85.6]\n",
      "\n"
     ]
    }
   ],
   "source": [
    "best_kmeans = find_best_kmeans_k(vector_customers,10)"
   ]
  },
  {
   "cell_type": "code",
   "execution_count": 6,
   "metadata": {},
   "outputs": [
    {
     "data": {
      "text/plain": [
       "[5, 0.6276007113904088]"
      ]
     },
     "execution_count": 6,
     "metadata": {},
     "output_type": "execute_result"
    }
   ],
   "source": [
    "best_kmeans"
   ]
  },
  {
   "cell_type": "markdown",
   "metadata": {},
   "source": [
    "### Modèle de clustering: BisectingKmeans"
   ]
  },
  {
   "cell_type": "code",
   "execution_count": 7,
   "metadata": {
    "scrolled": true
   },
   "outputs": [
    {
     "name": "stdout",
     "output_type": "stream",
     "text": [
      "k= 2\n",
      "Silhouette with squared euclidean distance = 0.3847726123431798\n",
      "Cluster Centers: \n",
      "[40.34065934 37.52747253  0.3956044  50.34065934]\n",
      "[37.60550459 79.78899083  0.47706422 50.08256881]\n",
      "k= 3\n",
      "Silhouette with squared euclidean distance = 0.4681208801841119\n",
      "Cluster Centers: \n",
      "[40.34065934 37.52747253  0.3956044  50.34065934]\n",
      "[40.34285714 76.02857143  0.48571429 32.22857143]\n",
      "[32.69230769 86.53846154  0.46153846 82.12820513]\n",
      "k= 4\n",
      "Silhouette with squared euclidean distance = 0.4841304830346468\n",
      "Cluster Centers: \n",
      "[25.16666667 33.61111111  0.41666667 69.69444444]\n",
      "[50.27272727 40.09090909  0.38181818 37.67272727]\n",
      "[40.34285714 76.02857143  0.48571429 32.22857143]\n",
      "[32.69230769 86.53846154  0.46153846 82.12820513]\n",
      "k= 5\n",
      "Silhouette with squared euclidean distance = 0.44780248610703827\n",
      "Cluster Centers: \n",
      "[25.16666667 33.61111111  0.41666667 69.69444444]\n",
      "[50.27272727 40.09090909  0.38181818 37.67272727]\n",
      "[41.      89.40625  0.5625  15.59375]\n",
      "[39.78947368 64.76315789  0.42105263 46.23684211]\n",
      "[32.69230769 86.53846154  0.46153846 82.12820513]\n",
      "k= 6\n",
      "Silhouette with squared euclidean distance = 0.4859415716901362\n",
      "Cluster Centers: \n",
      "[25.16666667 33.61111111  0.41666667 69.69444444]\n",
      "[45.4  25.65  0.35 18.55]\n",
      "[53.05714286 48.34285714  0.4        48.6       ]\n",
      "[41.      89.40625  0.5625  15.59375]\n",
      "[39.78947368 64.76315789  0.42105263 46.23684211]\n",
      "[32.69230769 86.53846154  0.46153846 82.12820513]\n",
      "k= 7\n",
      "Silhouette with squared euclidean distance = 0.47618825745570353\n",
      "Cluster Centers: \n",
      "[25.16666667 33.61111111  0.41666667 69.69444444]\n",
      "[45.4  25.65  0.35 18.55]\n",
      "[53.05714286 48.34285714  0.4        48.6       ]\n",
      "[41.      89.40625  0.5625  15.59375]\n",
      "[39.78947368 64.76315789  0.42105263 46.23684211]\n",
      "[32.78571429 78.03571429  0.46428571 81.89285714]\n",
      "[ 32.45454545 108.18181818   0.45454545  82.72727273]\n",
      "k= 8\n",
      "Silhouette with squared euclidean distance = 0.46851520647992895\n",
      "Cluster Centers: \n",
      "[25.5625 44.4375  0.4375 55.5625]\n",
      "[24.85 24.95  0.4  81.  ]\n",
      "[45.4  25.65  0.35 18.55]\n",
      "[53.05714286 48.34285714  0.4        48.6       ]\n",
      "[39.78947368 64.76315789  0.42105263 46.23684211]\n",
      "[41.      89.40625  0.5625  15.59375]\n",
      "[32.78571429 78.03571429  0.46428571 81.89285714]\n",
      "[ 32.45454545 108.18181818   0.45454545  82.72727273]\n",
      "k= 9\n",
      "Silhouette with squared euclidean distance = 0.4992900363793119\n",
      "Cluster Centers: \n",
      "[25.5625 44.4375  0.4375 55.5625]\n",
      "[24.85 24.95  0.4  81.  ]\n",
      "[45.4  25.65  0.35 18.55]\n",
      "[53.05714286 48.34285714  0.4        48.6       ]\n",
      "[25.52631579 64.15789474  0.31578947 44.78947368]\n",
      "[54.05263158 65.36842105  0.52631579 47.68421053]\n",
      "[41.      89.40625  0.5625  15.59375]\n",
      "[32.78571429 78.03571429  0.46428571 81.89285714]\n",
      "[ 32.45454545 108.18181818   0.45454545  82.72727273]\n"
     ]
    }
   ],
   "source": [
    "best_Bkmeans = find_best_BisectingKmeans_k(vector_customers,10)"
   ]
  },
  {
   "cell_type": "code",
   "execution_count": 8,
   "metadata": {},
   "outputs": [
    {
     "data": {
      "text/plain": [
       "[9, 0.4992900363793119]"
      ]
     },
     "execution_count": 8,
     "metadata": {},
     "output_type": "execute_result"
    }
   ],
   "source": [
    "best_Bkmeans"
   ]
  },
  {
   "cell_type": "markdown",
   "metadata": {},
   "source": [
    "### Comparaison"
   ]
  },
  {
   "cell_type": "code",
   "execution_count": 9,
   "metadata": {},
   "outputs": [
    {
     "name": "stdout",
     "output_type": "stream",
     "text": [
      "Silhouette =  0.6276007113904088  of Kmeans with k =  5 is better than silhouette =  0.4992900363793119  of BisectingKmeans with k =  9\n"
     ]
    }
   ],
   "source": [
    "k = compare_clustering_models(best_kmeans,best_Bkmeans)"
   ]
  },
  {
   "cell_type": "markdown",
   "metadata": {},
   "source": [
    "**Observation:** le meilleure score est obtenue pour Kmeans avec k=5, nous allons utiliser ce nombre de cluster par la suite"
   ]
  },
  {
   "cell_type": "code",
   "execution_count": 10,
   "metadata": {},
   "outputs": [],
   "source": [
    "predictions = kmeans_best_clustering(vector_customers,k)"
   ]
  },
  {
   "cell_type": "code",
   "execution_count": 11,
   "metadata": {},
   "outputs": [],
   "source": [
    "predictions_df = create_df_from_predictions(predictions)"
   ]
  },
  {
   "cell_type": "code",
   "execution_count": 12,
   "metadata": {},
   "outputs": [
    {
     "name": "stdout",
     "output_type": "stream",
     "text": [
      "      Age  Annual Income (k$)  Gender  Spending Score (1-100)  Cluster\n",
      "0    19.0                15.0     1.0                    39.0        1\n",
      "1    21.0                15.0     1.0                    81.0        0\n",
      "2    20.0                16.0     0.0                     6.0        1\n",
      "3    23.0                16.0     0.0                    77.0        0\n",
      "4    31.0                17.0     0.0                    40.0        1\n",
      "..    ...                 ...     ...                     ...      ...\n",
      "195  35.0               120.0     0.0                    79.0        3\n",
      "196  45.0               126.0     0.0                    28.0        2\n",
      "197  32.0               126.0     1.0                    74.0        3\n",
      "198  32.0               137.0     1.0                    18.0        2\n",
      "199  30.0               137.0     1.0                    83.0        3\n",
      "\n",
      "[200 rows x 5 columns]\n"
     ]
    }
   ],
   "source": [
    "print(predictions_df)"
   ]
  },
  {
   "cell_type": "code",
   "execution_count": 13,
   "metadata": {},
   "outputs": [
    {
     "data": {
      "image/png": "[encoded data removed]",
      "text/plain": [
       "<Figure size 1296x576 with 1 Axes>"
      ]
     },
     "metadata": {
      "needs_background": "light"
     },
     "output_type": "display_data"
    }
   ],
   "source": [
    "ax = sns.scatterplot(x=\"Age\", y=\"Annual Income (k$)\", hue=\"Cluster\", data=predictions_df,palette=\"deep\")\n",
    "plt.show()"
   ]
  },
  {
   "cell_type": "code",
   "execution_count": 14,
   "metadata": {},
   "outputs": [
    {
     "data": {
      "image/png": "[encoded data removed]",
      "text/plain": [
       "<Figure size 1296x576 with 1 Axes>"
      ]
     },
     "metadata": {
      "needs_background": "light"
     },
     "output_type": "display_data"
    }
   ],
   "source": [
    "ax = sns.scatterplot(x=\"Annual Income (k$)\", y=\"Spending Score (1-100)\", hue=\"Cluster\",data=predictions_df,palette=\"deep\")\n",
    "plt.show()"
   ]
  },
  {
   "cell_type": "markdown",
   "metadata": {},
   "source": [
    "**Observation:** la représentation des cluster nous indique clairement 5 segments (groupes) de clients différents influencé principalement par leurs revenues annuels"
   ]
  },
  {
   "cell_type": "markdown",
   "metadata": {},
   "source": [
    "## Choix du meilleur modèle de classification pour attribuer un des goupes trouvés par Kmeans à un nouveau client"
   ]
  },
  {
   "cell_type": "code",
   "execution_count": 15,
   "metadata": {},
   "outputs": [],
   "source": [
    "train, test = predictions.randomSplit([0.7, 0.3], seed = 2018)"
   ]
  },
  {
   "cell_type": "markdown",
   "metadata": {},
   "source": [
    "### Modèle de classification: Random Forest"
   ]
  },
  {
   "cell_type": "code",
   "execution_count": 16,
   "metadata": {},
   "outputs": [],
   "source": [
    "model = rf_train(train)"
   ]
  },
  {
   "cell_type": "code",
   "execution_count": 17,
   "metadata": {},
   "outputs": [
    {
     "name": "stdout",
     "output_type": "stream",
     "text": [
      "+--------------------+-------+--------------------+--------------------+----------+\n",
      "|            features|Cluster|       rawPrediction|         probability|prediction|\n",
      "+--------------------+-------+--------------------+--------------------+----------+\n",
      "|[18.0,33.0,1.0,92.0]|      0|[17.9473684210526...|[0.89736842105263...|       0.0|\n",
      "|[19.0,64.0,1.0,46.0]|      4|[1.24466016467657...|[0.06223300823382...|       4.0|\n",
      "| [19.0,81.0,1.0,5.0]|      2|[0.0,0.0357142857...|[0.0,0.0017857142...|       2.0|\n",
      "| [20.0,16.0,0.0,6.0]|      1|[0.0,17.881868131...|[0.0,0.8940934065...|       1.0|\n",
      "| [20.0,73.0,1.0,5.0]|      2|[0.0,0.0357142857...|[0.0,0.0017857142...|       2.0|\n",
      "|[21.0,33.0,0.0,81.0]|      0|[18.9473684210526...|[0.94736842105263...|       0.0|\n",
      "|[22.0,20.0,1.0,79.0]|      0|[19.9473684210526...|[0.99736842105263...|       0.0|\n",
      "|[23.0,70.0,0.0,29.0]|      2|[0.0,5.8818681318...|[0.0,0.2940934065...|       2.0|\n",
      "|[24.0,38.0,1.0,92.0]|      0|[16.9473684210526...|[0.84736842105263...|       0.0|\n",
      "|[24.0,39.0,0.0,65.0]|      0|[16.9473684210526...|[0.84736842105263...|       0.0|\n",
      "|[25.0,24.0,1.0,73.0]|      0|[18.9473684210526...|[0.94736842105263...|       0.0|\n",
      "|[26.0,62.0,1.0,55.0]|      4|[0.24466016467657...|[0.01223300823382...|       4.0|\n",
      "|[27.0,60.0,0.0,50.0]|      4|[0.24466016467657...|[0.01223300823382...|       4.0|\n",
      "|[27.0,67.0,1.0,56.0]|      4|[0.24466016467657...|[0.01223300823382...|       4.0|\n",
      "|[28.0,101.0,1.0,6...|      3|[0.0,0.0,0.0,20.0...|[0.0,0.0,0.0,1.0,...|       3.0|\n",
      "|[30.0,137.0,1.0,8...|      3|[0.0,0.0,0.0,20.0...|[0.0,0.0,0.0,1.0,...|       3.0|\n",
      "|[31.0,39.0,0.0,61.0]|      0|[10.5869561219610...|[0.52934780609805...|       0.0|\n",
      "|[31.0,72.0,0.0,71.0]|      3|[0.83333333333333...|[0.04166666666666...|       3.0|\n",
      "|[31.0,81.0,0.0,93.0]|      3|[0.0,0.0,0.0,20.0...|[0.0,0.0,0.0,1.0,...|       3.0|\n",
      "|[32.0,76.0,0.0,87.0]|      3|[0.0,0.0,0.0,20.0...|[0.0,0.0,0.0,1.0,...|       3.0|\n",
      "+--------------------+-------+--------------------+--------------------+----------+\n",
      "only showing top 20 rows\n",
      "\n"
     ]
    }
   ],
   "source": [
    "Rf_accuracy = rf_eval_test(model, test)"
   ]
  },
  {
   "cell_type": "code",
   "execution_count": 18,
   "metadata": {},
   "outputs": [
    {
     "data": {
      "text/plain": [
       "1.0"
      ]
     },
     "execution_count": 18,
     "metadata": {},
     "output_type": "execute_result"
    }
   ],
   "source": [
    "Rf_accuracy"
   ]
  },
  {
   "cell_type": "markdown",
   "metadata": {},
   "source": [
    "### Modèle de classification: Decision Tree"
   ]
  },
  {
   "cell_type": "code",
   "execution_count": 19,
   "metadata": {},
   "outputs": [],
   "source": [
    "model = Dt_train(train)"
   ]
  },
  {
   "cell_type": "code",
   "execution_count": 20,
   "metadata": {},
   "outputs": [
    {
     "name": "stdout",
     "output_type": "stream",
     "text": [
      "+--------------------+-------+--------------------+--------------------+----------+\n",
      "|            features|Cluster|       rawPrediction|         probability|prediction|\n",
      "+--------------------+-------+--------------------+--------------------+----------+\n",
      "|[18.0,33.0,1.0,92.0]|      0|[15.0,0.0,0.0,0.0...|[1.0,0.0,0.0,0.0,...|       0.0|\n",
      "|[19.0,64.0,1.0,46.0]|      4|[0.0,0.0,0.0,0.0,...|[0.0,0.0,0.0,0.0,...|       4.0|\n",
      "| [19.0,81.0,1.0,5.0]|      2|[0.0,0.0,23.0,0.0...|[0.0,0.0,1.0,0.0,...|       2.0|\n",
      "| [20.0,16.0,0.0,6.0]|      1|[0.0,15.0,0.0,0.0...|[0.0,1.0,0.0,0.0,...|       1.0|\n",
      "| [20.0,73.0,1.0,5.0]|      2|[0.0,0.0,23.0,0.0...|[0.0,0.0,1.0,0.0,...|       2.0|\n",
      "|[21.0,33.0,0.0,81.0]|      0|[15.0,0.0,0.0,0.0...|[1.0,0.0,0.0,0.0,...|       0.0|\n",
      "|[22.0,20.0,1.0,79.0]|      0|[15.0,0.0,0.0,0.0...|[1.0,0.0,0.0,0.0,...|       0.0|\n",
      "|[23.0,70.0,0.0,29.0]|      2|[0.0,0.0,23.0,0.0...|[0.0,0.0,1.0,0.0,...|       2.0|\n",
      "|[24.0,38.0,1.0,92.0]|      0|[15.0,0.0,0.0,0.0...|[1.0,0.0,0.0,0.0,...|       0.0|\n",
      "|[24.0,39.0,0.0,65.0]|      0|[15.0,0.0,0.0,0.0...|[1.0,0.0,0.0,0.0,...|       0.0|\n",
      "|[25.0,24.0,1.0,73.0]|      0|[15.0,0.0,0.0,0.0...|[1.0,0.0,0.0,0.0,...|       0.0|\n",
      "|[26.0,62.0,1.0,55.0]|      4|[0.0,0.0,0.0,0.0,...|[0.0,0.0,0.0,0.0,...|       4.0|\n",
      "|[27.0,60.0,0.0,50.0]|      4|[0.0,0.0,0.0,0.0,...|[0.0,0.0,0.0,0.0,...|       4.0|\n",
      "|[27.0,67.0,1.0,56.0]|      4|[0.0,0.0,0.0,0.0,...|[0.0,0.0,0.0,0.0,...|       4.0|\n",
      "|[28.0,101.0,1.0,6...|      3|[0.0,0.0,0.0,28.0...|[0.0,0.0,0.0,1.0,...|       3.0|\n",
      "|[30.0,137.0,1.0,8...|      3|[0.0,0.0,0.0,28.0...|[0.0,0.0,0.0,1.0,...|       3.0|\n",
      "|[31.0,39.0,0.0,61.0]|      0|[15.0,0.0,0.0,0.0...|[1.0,0.0,0.0,0.0,...|       0.0|\n",
      "|[31.0,72.0,0.0,71.0]|      3|[0.0,0.0,0.0,28.0...|[0.0,0.0,0.0,1.0,...|       3.0|\n",
      "|[31.0,81.0,0.0,93.0]|      3|[0.0,0.0,0.0,28.0...|[0.0,0.0,0.0,1.0,...|       3.0|\n",
      "|[32.0,76.0,0.0,87.0]|      3|[0.0,0.0,0.0,28.0...|[0.0,0.0,0.0,1.0,...|       3.0|\n",
      "+--------------------+-------+--------------------+--------------------+----------+\n",
      "only showing top 20 rows\n",
      "\n"
     ]
    }
   ],
   "source": [
    "Dt_accuracy = Dt_eval_test(model,test)"
   ]
  },
  {
   "cell_type": "code",
   "execution_count": 21,
   "metadata": {},
   "outputs": [
    {
     "data": {
      "text/plain": [
       "0.953125"
      ]
     },
     "execution_count": 21,
     "metadata": {},
     "output_type": "execute_result"
    }
   ],
   "source": [
    "Dt_accuracy"
   ]
  },
  {
   "cell_type": "markdown",
   "metadata": {},
   "source": [
    "**Observation:** Le Random Forest est plus performant que le DecisionTreeClassifier donc c'est celui qui sera utilisé pour classé les nouveaux clients"
   ]
  },
  {
   "cell_type": "markdown",
   "metadata": {},
   "source": [
    "## Partie 2 : Recommandation de films aux clients avec le modèle ALS"
   ]
  },
  {
   "cell_type": "code",
   "execution_count": 3,
   "metadata": {},
   "outputs": [],
   "source": [
    "ratings_movies = spark.read.csv('../input_data/ratings_movies.csv', inferSchema=True, header=True)"
   ]
  },
  {
   "cell_type": "code",
   "execution_count": 4,
   "metadata": {},
   "outputs": [],
   "source": [
    "movies = spark.read.csv('../input_data/movies_metadata.csv', inferSchema=True, header=True, sep=',')"
   ]
  },
  {
   "cell_type": "code",
   "execution_count": 5,
   "metadata": {},
   "outputs": [],
   "source": [
    "costumers_movies = create_Df_movie(ratings_movies)"
   ]
  },
  {
   "cell_type": "code",
   "execution_count": 6,
   "metadata": {},
   "outputs": [
    {
     "name": "stdout",
     "output_type": "stream",
     "text": [
      "+------+-------+------+----------+\n",
      "|userId|movieId|rating| timestamp|\n",
      "+------+-------+------+----------+\n",
      "|    48|    110|   1.0|1425941529|\n",
      "|    42|    147|   4.5|1425942435|\n",
      "+------+-------+------+----------+\n",
      "only showing top 2 rows\n",
      "\n"
     ]
    }
   ],
   "source": [
    "costumers_movies.show(2)"
   ]
  },
  {
   "cell_type": "code",
   "execution_count": 7,
   "metadata": {},
   "outputs": [
    {
     "data": {
      "text/plain": [
       "pyspark.sql.dataframe.DataFrame"
      ]
     },
     "execution_count": 7,
     "metadata": {},
     "output_type": "execute_result"
    }
   ],
   "source": [
    "type(costumers_movies)"
   ]
  },
  {
   "cell_type": "code",
   "execution_count": 8,
   "metadata": {},
   "outputs": [],
   "source": [
    "train, test = costumers_movies.randomSplit([0.7, 0.3], seed = 500)"
   ]
  },
  {
   "cell_type": "code",
   "execution_count": 10,
   "metadata": {},
   "outputs": [],
   "source": [
    "model = ALS_train(train)"
   ]
  },
  {
   "cell_type": "code",
   "execution_count": 11,
   "metadata": {},
   "outputs": [
    {
     "name": "stdout",
     "output_type": "stream",
     "text": [
      "+------+-------+------+----------+----------+\n",
      "|userId|movieId|rating| timestamp|prediction|\n",
      "+------+-------+------+----------+----------+\n",
      "|    31|    148|   3.0| 956789580|  2.852905|\n",
      "|    53|    148|   4.0| 848147116| 2.8541276|\n",
      "|    53|    148|   2.0|1311022737| 2.8541276|\n",
      "|   133|    148|   3.0| 830778220| 2.8476112|\n",
      "|   155|    148|   2.0| 945907892| 2.8483741|\n",
      "|   101|    148|   2.0| 974945135|  2.850807|\n",
      "|   126|    148|   3.0| 891671330| 2.8525128|\n",
      "|    28|    148|   2.5|1498443856| 2.8463845|\n",
      "|   183|    148|   2.0| 954702916| 2.8459659|\n",
      "|   183|    148|   4.0| 998799394| 2.8459659|\n",
      "|    26|    148|   2.0| 974417654| 2.8500597|\n",
      "|    26|    148|   4.0| 827943433| 2.8500597|\n",
      "|    27|    148|   2.0|1491812543| 2.8510666|\n",
      "|   103|    148|   2.0| 838308516| 2.8493774|\n",
      "|    12|    148|   3.0| 954553961| 2.8522863|\n",
      "|   128|    148|   5.0|1021943977| 2.8500051|\n",
      "|   190|    148|   1.0| 858123190| 2.8495378|\n",
      "|    47|    148|   2.0| 839965214| 2.8520532|\n",
      "|   140|    148|   2.0| 935277774| 2.8496933|\n",
      "|   140|    148|   4.0| 979367598| 2.8496933|\n",
      "+------+-------+------+----------+----------+\n",
      "only showing top 20 rows\n",
      "\n",
      "rmse = 0.9766067369394393\n"
     ]
    }
   ],
   "source": [
    "predictions = ALS_eval_test(model,test)"
   ]
  },
  {
   "cell_type": "code",
   "execution_count": 17,
   "metadata": {},
   "outputs": [
    {
     "name": "stdout",
     "output_type": "stream",
     "text": [
      "+-------+----------------------------------------------------+-----------------------------------------------------------------------------------+\n",
      "|movieId|recommendations                                     |title                                                                              |\n",
      "+-------+----------------------------------------------------+-----------------------------------------------------------------------------------+\n",
      "|148    |[[16, 2.856358], [163, 2.8552275], [82, 2.8548646]] |The Secret Life of Words                                                           |\n",
      "|471    |[[16, 3.4941037], [163, 3.4927201], [82, 3.4922767]]|Bandyta                                                                            |\n",
      "|496    |[[16, 3.1268263], [163, 3.1255884], [82, 3.125192]] |Borat: Cultural Learnings of America for Make Benefit Glorious Nation of Kazakhstan|\n",
      "|833    |[[16, 2.6359863], [163, 2.6349428], [82, 2.6346083]]|Umberto D.                                                                         |\n",
      "|1088   |[[16, 3.0928464], [163, 3.091622], [82, 3.0912294]] |Whale Rider                                                                        |\n",
      "|1580   |[[16, 3.4149523], [163, 3.4136004], [82, 3.4131672]]|Released                                                                           |\n",
      "|1591   |[[16, 2.540193], [163, 2.5391874], [82, 2.5388653]] |Nowhere in Africa                                                                  |\n",
      "|1645   |[[16, 3.3662972], [163, 3.3649645], [82, 3.3645375]]|A Time to Kill                                                                     |\n",
      "|1829   |[[16, 2.9411745], [163, 2.9400103], [82, 2.939637]] |The Story of Adele H                                                               |\n",
      "|1959   |[[16, 3.4822922], [163, 3.4809134], [82, 3.4804716]]|Swept from the Sea                                                                 |\n",
      "|2122   |[[16, 2.5236812], [163, 2.5226822], [82, 2.522362]] |The Whole Ten Yards                                                                |\n",
      "|2142   |[[16, 2.9022005], [163, 2.9010518], [82, 2.9006834]]|Cop Land                                                                           |\n",
      "|3175   |[[16, 3.440774], [163, 3.4394116], [82, 3.438975]]  |Barry Lyndon                                                                       |\n",
      "|4519   |[[16, 3.1658475], [163, 3.1645942], [82, 3.1641924]]|Conversations with My Gardener                                                     |\n",
      "|4935   |[[16, 3.3201957], [163, 3.3188813], [82, 3.31846]]  |Howl's Moving Castle                                                               |\n",
      "|5156   |[[16, 2.9454381], [163, 2.9442718], [82, 2.9438982]]|Bicycle Thieves                                                                    |\n",
      "|6466   |[[16, 3.397677], [163, 3.3963318], [82, 3.3959005]] |Freddy vs. Jason                                                                   |\n",
      "|6620   |[[16, 3.60994], [163, 3.6085107], [82, 3.6080527]]  |[{'iso_3166_1': 'US', 'name': 'United States of America'}]                         |\n",
      "|7340   |[[16, 2.8050358], [163, 2.8039253], [82, 2.8035693]]|If you’ve got a taste for terror... take Carrie to the prom.                       |\n",
      "|8592   |[[16, 3.1322892], [163, 3.1310492], [82, 3.1306517]]|Dick Tracy                                                                         |\n",
      "+-------+----------------------------------------------------+-----------------------------------------------------------------------------------+\n",
      "only showing top 20 rows\n",
      "\n"
     ]
    }
   ],
   "source": [
    "recommandation_movies_for_user(model,test,3,movies)"
   ]
  }
 ],
 "metadata": {
  "kernelspec": {
   "display_name": "Python 3",
   "language": "python",
   "name": "python3"
  },
  "language_info": {
   "codemirror_mode": {
    "name": "ipython",
    "version": 3
   },
   "file_extension": ".py",
   "mimetype": "text/x-python",
   "name": "python",
   "nbconvert_exporter": "python",
   "pygments_lexer": "ipython3",
   "version": "3.9.1"
  }
 },
 "nbformat": 4,
 "nbformat_minor": 4
}
