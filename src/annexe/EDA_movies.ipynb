{
 "cells": [
  {
   "cell_type": "markdown",
   "metadata": {},
   "source": [
    "# Exploration des données de films"
   ]
  },
  {
   "cell_type": "code",
   "execution_count": 4,
   "metadata": {},
   "outputs": [],
   "source": [
    "from pyspark.sql.functions import rand\n",
    "from pyspark.sql.types import IntegerType\n",
    "\n",
    "from pyspark.ml.feature import StringIndexer\n",
    "from pyspark.ml.recommendation import ALS\n",
    "from pyspark.ml.evaluation import RegressionEvaluator\n",
    "\n",
    "import os\n",
    "os.chdir('..')"
   ]
  },
  {
   "cell_type": "code",
   "execution_count": 6,
   "metadata": {},
   "outputs": [],
   "source": [
    "ratings_movies = spark.read.csv('../../data/ratings_movies.csv', inferSchema=True, header=True)"
   ]
  },
  {
   "cell_type": "code",
   "execution_count": 7,
   "metadata": {},
   "outputs": [
    {
     "name": "stdout",
     "output_type": "stream",
     "text": [
      "+------+-------+------+----------+\n",
      "|userId|movieId|rating| timestamp|\n",
      "+------+-------+------+----------+\n",
      "|     1|    110|   1.0|1425941529|\n",
      "|     1|    147|   4.5|1425942435|\n",
      "|     1|    858|   5.0|1425941523|\n",
      "|     1|   1221|   5.0|1425941546|\n",
      "|     1|   1246|   5.0|1425941556|\n",
      "|     1|   1968|   4.0|1425942148|\n",
      "|     1|   2762|   4.5|1425941300|\n",
      "|     1|   2918|   5.0|1425941593|\n",
      "|     1|   2959|   4.0|1425941601|\n",
      "|     1|   4226|   4.0|1425942228|\n",
      "|     1|   4878|   5.0|1425941434|\n",
      "|     1|   5577|   5.0|1425941397|\n",
      "|     1|  33794|   4.0|1425942005|\n",
      "|     1|  54503|   3.5|1425941313|\n",
      "|     1|  58559|   4.0|1425942007|\n",
      "|     1|  59315|   5.0|1425941502|\n",
      "|     1|  68358|   5.0|1425941464|\n",
      "|     1|  69844|   5.0|1425942139|\n",
      "|     1|  73017|   5.0|1425942699|\n",
      "|     1|  81834|   5.0|1425942133|\n",
      "+------+-------+------+----------+\n",
      "only showing top 20 rows\n",
      "\n"
     ]
    }
   ],
   "source": [
    "ratings_movies.show()"
   ]
  },
  {
   "cell_type": "code",
   "execution_count": 8,
   "metadata": {},
   "outputs": [
    {
     "name": "stdout",
     "output_type": "stream",
     "text": [
      "root\n",
      " |-- userId: integer (nullable = true)\n",
      " |-- movieId: integer (nullable = true)\n",
      " |-- rating: double (nullable = true)\n",
      " |-- timestamp: integer (nullable = true)\n",
      "\n"
     ]
    }
   ],
   "source": [
    "ratings_movies.printSchema()"
   ]
  },
  {
   "cell_type": "code",
   "execution_count": 9,
   "metadata": {},
   "outputs": [],
   "source": [
    "df1 = ratings_movies.withColumn('userId', (rand()*200+1))"
   ]
  },
  {
   "cell_type": "code",
   "execution_count": 10,
   "metadata": {},
   "outputs": [],
   "source": [
    "df1 = df1.withColumn('userId', df1['userId'].cast(IntegerType()).alias('userId'))"
   ]
  },
  {
   "cell_type": "code",
   "execution_count": 11,
   "metadata": {},
   "outputs": [],
   "source": [
    "df1 = df1.withColumn('movieId', df1['movieId'].cast(IntegerType()).alias('movieId'))"
   ]
  },
  {
   "cell_type": "code",
   "execution_count": 12,
   "metadata": {},
   "outputs": [
    {
     "name": "stdout",
     "output_type": "stream",
     "text": [
      "+------+-------+------+----------+\n",
      "|userId|movieId|rating| timestamp|\n",
      "+------+-------+------+----------+\n",
      "|   176|    110|   1.0|1425941529|\n",
      "|   184|    147|   4.5|1425942435|\n",
      "|    45|    858|   5.0|1425941523|\n",
      "|   108|   1221|   5.0|1425941546|\n",
      "|   150|   1246|   5.0|1425941556|\n",
      "|    10|   1968|   4.0|1425942148|\n",
      "|     2|   2762|   4.5|1425941300|\n",
      "|     2|   2918|   5.0|1425941593|\n",
      "|   128|   2959|   4.0|1425941601|\n",
      "|    25|   4226|   4.0|1425942228|\n",
      "|    53|   4878|   5.0|1425941434|\n",
      "|   136|   5577|   5.0|1425941397|\n",
      "|   130|  33794|   4.0|1425942005|\n",
      "|   125|  54503|   3.5|1425941313|\n",
      "|    49|  58559|   4.0|1425942007|\n",
      "|    38|  59315|   5.0|1425941502|\n",
      "|    42|  68358|   5.0|1425941464|\n",
      "|   186|  69844|   5.0|1425942139|\n",
      "|    57|  73017|   5.0|1425942699|\n",
      "|    62|  81834|   5.0|1425942133|\n",
      "+------+-------+------+----------+\n",
      "only showing top 20 rows\n",
      "\n"
     ]
    }
   ],
   "source": [
    "df1.show()"
   ]
  },
  {
   "cell_type": "code",
   "execution_count": 13,
   "metadata": {},
   "outputs": [
    {
     "name": "stdout",
     "output_type": "stream",
     "text": [
      "+-------+------------------+\n",
      "|summary|            userId|\n",
      "+-------+------------------+\n",
      "|  count|          26024289|\n",
      "|   mean|100.47504437104891|\n",
      "| stddev|57.729545723084655|\n",
      "|    min|                 1|\n",
      "|    max|               200|\n",
      "+-------+------------------+\n",
      "\n"
     ]
    }
   ],
   "source": [
    "df1.select('userId').describe().show()"
   ]
  },
  {
   "cell_type": "code",
   "execution_count": 14,
   "metadata": {},
   "outputs": [
    {
     "name": "stdout",
     "output_type": "stream",
     "text": [
      "+-------+------------------+\n",
      "|summary|           movieId|\n",
      "+-------+------------------+\n",
      "|  count|          26024289|\n",
      "|   mean|15849.109677040553|\n",
      "| stddev|31085.257531391508|\n",
      "|    min|                 1|\n",
      "|    max|            176275|\n",
      "+-------+------------------+\n",
      "\n"
     ]
    }
   ],
   "source": [
    "df1.select('movieId').describe().show()"
   ]
  },
  {
   "cell_type": "code",
   "execution_count": 15,
   "metadata": {},
   "outputs": [
    {
     "name": "stdout",
     "output_type": "stream",
     "text": [
      "+-------+------------------+\n",
      "|summary|            rating|\n",
      "+-------+------------------+\n",
      "|  count|          26024289|\n",
      "|   mean|3.5280903543608817|\n",
      "| stddev|1.0654427636662405|\n",
      "|    min|               0.5|\n",
      "|    max|               5.0|\n",
      "+-------+------------------+\n",
      "\n"
     ]
    }
   ],
   "source": [
    "df1.select('rating').describe().show()"
   ]
  },
  {
   "cell_type": "code",
   "execution_count": 16,
   "metadata": {},
   "outputs": [],
   "source": [
    "train, test = df1.randomSplit([0.7, 0.3], seed = 500)"
   ]
  },
  {
   "cell_type": "code",
   "execution_count": 17,
   "metadata": {},
   "outputs": [
    {
     "name": "stdout",
     "output_type": "stream",
     "text": [
      "Shape train data: (18219215, 4)\n"
     ]
    }
   ],
   "source": [
    "print('Shape train data:',(train.count(), len(train.columns)))"
   ]
  },
  {
   "cell_type": "code",
   "execution_count": 18,
   "metadata": {},
   "outputs": [
    {
     "name": "stdout",
     "output_type": "stream",
     "text": [
      "Shape train data: (7805074, 4)\n"
     ]
    }
   ],
   "source": [
    "print('Shape train data:',(test.count(), len(test.columns)))"
   ]
  }
 ],
 "metadata": {
  "kernelspec": {
   "display_name": "Python 3",
   "language": "python",
   "name": "python3"
  },
  "language_info": {
   "codemirror_mode": {
    "name": "ipython",
    "version": 3
   },
   "file_extension": ".py",
   "mimetype": "text/x-python",
   "name": "python",
   "nbconvert_exporter": "python",
   "pygments_lexer": "ipython3",
   "version": "3.8.6"
  }
 },
 "nbformat": 4,
 "nbformat_minor": 4
}
