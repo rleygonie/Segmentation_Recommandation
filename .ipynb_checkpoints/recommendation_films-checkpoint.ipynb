{
 "cells": [
  {
   "cell_type": "markdown",
   "metadata": {},
   "source": [
    "# Recommendation de films pour les clients du centre commercial "
   ]
  },
  {
   "cell_type": "code",
   "execution_count": 1,
   "metadata": {},
   "outputs": [],
   "source": [
    "from pyspark.sql.functions import rand\n",
    "from pyspark.sql.types import IntegerType\n",
    "\n",
    "from pyspark.ml.feature import StringIndexer\n",
    "from pyspark.ml.recommendation import ALS\n",
    "from pyspark.ml.evaluation import RegressionEvaluator"
   ]
  },
  {
   "cell_type": "code",
   "execution_count": 2,
   "metadata": {},
   "outputs": [],
   "source": [
    "ratings_movies = spark.read.csv('./data/ratings_movies.csv', inferSchema=True, header=True)"
   ]
  },
  {
   "cell_type": "code",
   "execution_count": 3,
   "metadata": {},
   "outputs": [
    {
     "name": "stdout",
     "output_type": "stream",
     "text": [
      "+------+-------+------+----------+\n",
      "|userId|movieId|rating| timestamp|\n",
      "+------+-------+------+----------+\n",
      "|     1|    110|   1.0|1425941529|\n",
      "|     1|    147|   4.5|1425942435|\n",
      "|     1|    858|   5.0|1425941523|\n",
      "|     1|   1221|   5.0|1425941546|\n",
      "|     1|   1246|   5.0|1425941556|\n",
      "|     1|   1968|   4.0|1425942148|\n",
      "|     1|   2762|   4.5|1425941300|\n",
      "|     1|   2918|   5.0|1425941593|\n",
      "|     1|   2959|   4.0|1425941601|\n",
      "|     1|   4226|   4.0|1425942228|\n",
      "|     1|   4878|   5.0|1425941434|\n",
      "|     1|   5577|   5.0|1425941397|\n",
      "|     1|  33794|   4.0|1425942005|\n",
      "|     1|  54503|   3.5|1425941313|\n",
      "|     1|  58559|   4.0|1425942007|\n",
      "|     1|  59315|   5.0|1425941502|\n",
      "|     1|  68358|   5.0|1425941464|\n",
      "|     1|  69844|   5.0|1425942139|\n",
      "|     1|  73017|   5.0|1425942699|\n",
      "|     1|  81834|   5.0|1425942133|\n",
      "+------+-------+------+----------+\n",
      "only showing top 20 rows\n",
      "\n"
     ]
    }
   ],
   "source": [
    "ratings_movies.show()"
   ]
  },
  {
   "cell_type": "code",
   "execution_count": 4,
   "metadata": {},
   "outputs": [
    {
     "name": "stdout",
     "output_type": "stream",
     "text": [
      "root\n",
      " |-- userId: integer (nullable = true)\n",
      " |-- movieId: integer (nullable = true)\n",
      " |-- rating: double (nullable = true)\n",
      " |-- timestamp: integer (nullable = true)\n",
      "\n"
     ]
    }
   ],
   "source": [
    "ratings_movies.printSchema()"
   ]
  },
  {
   "cell_type": "code",
   "execution_count": 42,
   "metadata": {},
   "outputs": [],
   "source": [
    "df1 = ratings_movies.withColumn('userId', (rand()*200+1))"
   ]
  },
  {
   "cell_type": "code",
   "execution_count": 43,
   "metadata": {},
   "outputs": [],
   "source": [
    "df1 = df1.withColumn('userId', df1['userId'].cast(IntegerType()).alias('userId'))"
   ]
  },
  {
   "cell_type": "code",
   "execution_count": 44,
   "metadata": {},
   "outputs": [],
   "source": [
    "df1 = df1.withColumn('movieId', df1['movieId'].cast(IntegerType()).alias('movieId'))"
   ]
  },
  {
   "cell_type": "code",
   "execution_count": 45,
   "metadata": {},
   "outputs": [
    {
     "name": "stdout",
     "output_type": "stream",
     "text": [
      "+------+-------+------+----------+\n",
      "|userId|movieId|rating| timestamp|\n",
      "+------+-------+------+----------+\n",
      "|   128|    110|   1.0|1425941529|\n",
      "|    61|    147|   4.5|1425942435|\n",
      "|    43|    858|   5.0|1425941523|\n",
      "|   184|   1221|   5.0|1425941546|\n",
      "|    30|   1246|   5.0|1425941556|\n",
      "|   149|   1968|   4.0|1425942148|\n",
      "|   133|   2762|   4.5|1425941300|\n",
      "|   125|   2918|   5.0|1425941593|\n",
      "|   101|   2959|   4.0|1425941601|\n",
      "|   122|   4226|   4.0|1425942228|\n",
      "|    39|   4878|   5.0|1425941434|\n",
      "|   164|   5577|   5.0|1425941397|\n",
      "|   117|  33794|   4.0|1425942005|\n",
      "|    19|  54503|   3.5|1425941313|\n",
      "|    77|  58559|   4.0|1425942007|\n",
      "|   120|  59315|   5.0|1425941502|\n",
      "|    47|  68358|   5.0|1425941464|\n",
      "|    85|  69844|   5.0|1425942139|\n",
      "|    68|  73017|   5.0|1425942699|\n",
      "|    50|  81834|   5.0|1425942133|\n",
      "+------+-------+------+----------+\n",
      "only showing top 20 rows\n",
      "\n"
     ]
    }
   ],
   "source": [
    "df1.show()"
   ]
  },
  {
   "cell_type": "code",
   "execution_count": 46,
   "metadata": {},
   "outputs": [
    {
     "name": "stdout",
     "output_type": "stream",
     "text": [
      "+-------+------------------+\n",
      "|summary|            userId|\n",
      "+-------+------------------+\n",
      "|  count|          26024289|\n",
      "|   mean|100.49032136862606|\n",
      "| stddev|57.742238530022455|\n",
      "|    min|                 1|\n",
      "|    max|               200|\n",
      "+-------+------------------+\n",
      "\n"
     ]
    }
   ],
   "source": [
    "df1.select('userId').describe().show()"
   ]
  },
  {
   "cell_type": "code",
   "execution_count": 47,
   "metadata": {},
   "outputs": [
    {
     "name": "stdout",
     "output_type": "stream",
     "text": [
      "+-------+------------------+\n",
      "|summary|           movieId|\n",
      "+-------+------------------+\n",
      "|  count|          26024289|\n",
      "|   mean|15849.109677040553|\n",
      "| stddev|31085.257531391508|\n",
      "|    min|                 1|\n",
      "|    max|            176275|\n",
      "+-------+------------------+\n",
      "\n"
     ]
    }
   ],
   "source": [
    "df1.select('movieId').describe().show()"
   ]
  },
  {
   "cell_type": "code",
   "execution_count": 48,
   "metadata": {},
   "outputs": [
    {
     "name": "stdout",
     "output_type": "stream",
     "text": [
      "+-------+------------------+\n",
      "|summary|            rating|\n",
      "+-------+------------------+\n",
      "|  count|          26024289|\n",
      "|   mean|3.5280903543608817|\n",
      "| stddev|1.0654427636662405|\n",
      "|    min|               0.5|\n",
      "|    max|               5.0|\n",
      "+-------+------------------+\n",
      "\n"
     ]
    }
   ],
   "source": [
    "df1.select('rating').describe().show()"
   ]
  },
  {
   "cell_type": "code",
   "execution_count": 12,
   "metadata": {},
   "outputs": [],
   "source": [
    "train, test = df1.randomSplit([0.7, 0.3], seed = 500)"
   ]
  },
  {
   "cell_type": "code",
   "execution_count": 13,
   "metadata": {},
   "outputs": [
    {
     "name": "stdout",
     "output_type": "stream",
     "text": [
      "Shape train data: (18219215, 4)\n"
     ]
    }
   ],
   "source": [
    "print('Shape train data:',(train.count(), len(train.columns)))"
   ]
  },
  {
   "cell_type": "code",
   "execution_count": 14,
   "metadata": {},
   "outputs": [
    {
     "name": "stdout",
     "output_type": "stream",
     "text": [
      "Shape train data: (7805074, 4)\n"
     ]
    }
   ],
   "source": [
    "print('Shape train data:',(test.count(), len(test.columns)))"
   ]
  },
  {
   "cell_type": "code",
   "execution_count": 15,
   "metadata": {},
   "outputs": [],
   "source": [
    "model = ALS(userCol='userId', itemCol='movieId', ratingCol='rating').fit(train)"
   ]
  },
  {
   "cell_type": "code",
   "execution_count": 16,
   "metadata": {},
   "outputs": [],
   "source": [
    "predictions = model.transform(test)"
   ]
  },
  {
   "cell_type": "code",
   "execution_count": 17,
   "metadata": {},
   "outputs": [
    {
     "name": "stdout",
     "output_type": "stream",
     "text": [
      "+------+-------+------+----------+----------+\n",
      "|userId|movieId|rating| timestamp|prediction|\n",
      "+------+-------+------+----------+----------+\n",
      "|   148|    148|   1.0| 853826411| 2.7822294|\n",
      "|    31|    148|   3.0| 835810175| 2.7808115|\n",
      "|    65|    148|   2.0| 976870439| 2.7814708|\n",
      "|    53|    148|   2.0|1030400425| 2.7806585|\n",
      "|   108|    148|   3.0| 860111242|  2.777372|\n",
      "|   155|    148|   3.0| 864869040| 2.7774699|\n",
      "|    34|    148|   5.0| 832703670| 2.7820292|\n",
      "|    34|    148|   3.0| 970170090| 2.7820292|\n",
      "|   193|    148|   3.0| 945124706|  2.782248|\n",
      "|   193|    148|   4.0|1015193260|  2.782248|\n",
      "|   101|    148|   3.0| 851452074| 2.7759292|\n",
      "|   115|    148|   3.0|1058985403| 2.7790785|\n",
      "|   126|    148|   2.0| 848773886| 2.7834103|\n",
      "|   126|    148|   4.0|1500217059| 2.7834103|\n",
      "|    27|    148|   4.0| 828021782| 2.7800539|\n",
      "|    44|    148|   4.0| 979367598| 2.7807093|\n",
      "|   103|    148|   4.0| 832057800| 2.7820318|\n",
      "|    12|    148|   1.0|1047357247|  2.781437|\n",
      "|   122|    148|   5.0| 842004154|  2.781406|\n",
      "|   157|    148|   3.0| 948958309| 2.7804282|\n",
      "+------+-------+------+----------+----------+\n",
      "only showing top 20 rows\n",
      "\n"
     ]
    }
   ],
   "source": [
    "predictions.show()"
   ]
  },
  {
   "cell_type": "code",
   "execution_count": 19,
   "metadata": {},
   "outputs": [],
   "source": [
    "predictions = predictions.na.drop()"
   ]
  },
  {
   "cell_type": "code",
   "execution_count": 20,
   "metadata": {},
   "outputs": [
    {
     "name": "stdout",
     "output_type": "stream",
     "text": [
      "rmse = 0.9767405099735131\n"
     ]
    }
   ],
   "source": [
    "evaluator = RegressionEvaluator(metricName=\"rmse\",labelCol=\"rating\", predictionCol=\"prediction\")\n",
    "rmse = evaluator.evaluate(predictions)\n",
    "print('rmse =',rmse)"
   ]
  },
  {
   "cell_type": "code",
   "execution_count": 23,
   "metadata": {},
   "outputs": [
    {
     "name": "stdout",
     "output_type": "stream",
     "text": [
      "Shape of predictions: (7801510, 5)\n"
     ]
    }
   ],
   "source": [
    "print('Shape of predictions:',(predictions.count(), len(predictions.columns)))"
   ]
  },
  {
   "cell_type": "code",
   "execution_count": 36,
   "metadata": {},
   "outputs": [],
   "source": [
    "movies = spark.read.csv('./data/movies_metadata.csv', inferSchema=True, header=True, sep=',')"
   ]
  },
  {
   "cell_type": "code",
   "execution_count": 38,
   "metadata": {},
   "outputs": [
    {
     "name": "stdout",
     "output_type": "stream",
     "text": [
      "+-----+---------------------+--------+--------------------+--------------------+----+---------+-----------------+--------------+--------------------+----------+--------------------+--------------------+--------------------+------------+---------+-------+--------------------+--------+--------------------+---------+-----+------------+----------+\n",
      "|adult|belongs_to_collection|  budget|              genres|            homepage|  id|  imdb_id|original_language|original_title|            overview|popularity|         poster_path|production_companies|production_countries|release_date|  revenue|runtime|    spoken_languages|  status|             tagline|    title|video|vote_average|vote_count|\n",
      "+-----+---------------------+--------+--------------------+--------------------+----+---------+-----------------+--------------+--------------------+----------+--------------------+--------------------+--------------------+------------+---------+-------+--------------------+--------+--------------------+---------+-----+------------+----------+\n",
      "|False| {'id': 10194, 'na...|30000000|[{'id': 16, 'name...|http://toystory.d...| 862|tt0114709|               en|     Toy Story|Led by Woody, And...| 21.946943|/rhIRbceoE9lR4veE...|[{'name': 'Pixar ...|[{'iso_3166_1': '...|  1995-10-30|373554033|   81.0|[{'iso_639_1': 'e...|Released|                null|Toy Story|False|         7.7|      5415|\n",
      "|False|                 null|65000000|[{'id': 12, 'name...|                null|8844|tt0113497|               en|       Jumanji|When siblings Jud...| 17.015539|/vzmL6fP7aPKNKPRT...|[{'name': 'TriSta...|[{'iso_3166_1': '...|  1995-12-15|262797249|  104.0|[{'iso_639_1': 'e...|Released|Roll the dice and...|  Jumanji|False|         6.9|      2413|\n",
      "+-----+---------------------+--------+--------------------+--------------------+----+---------+-----------------+--------------+--------------------+----------+--------------------+--------------------+--------------------+------------+---------+-------+--------------------+--------+--------------------+---------+-----+------------+----------+\n",
      "only showing top 2 rows\n",
      "\n"
     ]
    }
   ],
   "source": [
    "movies.show(2)"
   ]
  },
  {
   "cell_type": "code",
   "execution_count": 61,
   "metadata": {},
   "outputs": [],
   "source": [
    "recommendation = model.recommendForItemSubset(test,numUsers=3)"
   ]
  },
  {
   "cell_type": "code",
   "execution_count": 66,
   "metadata": {},
   "outputs": [],
   "source": [
    "df2 = recommendation.join(movies, movies.id == recommendation.movieId).select(recommendation[\"*\"],movies[\"title\"])"
   ]
  },
  {
   "cell_type": "code",
   "execution_count": 68,
   "metadata": {},
   "outputs": [
    {
     "name": "stdout",
     "output_type": "stream",
     "text": [
      "+-------+-----------------------------------------------------+-----------------------------------------------------------------------------------+\n",
      "|movieId|recommendations                                      |title                                                                              |\n",
      "+-------+-----------------------------------------------------+-----------------------------------------------------------------------------------+\n",
      "|148    |[[83, 2.7878337], [169, 2.7877886], [168, 2.787404]] |The Secret Life of Words                                                           |\n",
      "|471    |[[83, 3.4891572], [169, 3.4891005], [168, 3.4886198]]|Bandyta                                                                            |\n",
      "|496    |[[83, 3.1753914], [169, 3.17534], [168, 3.1749024]]  |Borat: Cultural Learnings of America for Make Benefit Glorious Nation of Kazakhstan|\n",
      "|833    |[[83, 2.6024714], [169, 2.6024292], [168, 2.6020706]]|Umberto D.                                                                         |\n",
      "|1088   |[[83, 3.0998192], [169, 3.0997689], [168, 3.0993419]]|Whale Rider                                                                        |\n",
      "|1580   |[[83, 3.4191318], [169, 3.4190764], [168, 3.4186056]]|Released                                                                           |\n",
      "|1591   |[[83, 2.5174723], [169, 2.5174315], [168, 2.5170846]]|Nowhere in Africa                                                                  |\n",
      "|1645   |[[83, 3.3626971], [169, 3.3626425], [168, 3.362179]] |A Time to Kill                                                                     |\n",
      "|1829   |[[83, 2.9150498], [169, 2.9150026], [168, 2.9146008]]|The Story of Adele H                                                               |\n",
      "|1959   |[[83, 3.4865506], [169, 3.4864936], [168, 3.4860134]]|Swept from the Sea                                                                 |\n",
      "|2122   |[[83, 2.5333629], [169, 2.5333216], [168, 2.5329726]]|The Whole Ten Yards                                                                |\n",
      "|2142   |[[83, 2.924748], [169, 2.9247005], [168, 2.9242976]] |Cop Land                                                                           |\n",
      "|3175   |[[83, 3.4257376], [169, 3.425682], [168, 3.4252102]] |Barry Lyndon                                                                       |\n",
      "|4519   |[[83, 3.1578095], [169, 3.1577582], [168, 3.1573234]]|Conversations with My Gardener                                                     |\n",
      "|4935   |[[83, 3.2363183], [169, 3.236266], [168, 3.23582]]   |Howl's Moving Castle                                                               |\n",
      "|5156   |[[83, 2.7750869], [169, 2.7750423], [168, 2.7746596]]|Bicycle Thieves                                                                    |\n",
      "|6466   |[[83, 3.4009705], [169, 3.4009151], [168, 3.4004467]]|Freddy vs. Jason                                                                   |\n",
      "|6620   |[[83, 3.637123], [169, 3.637064], [168, 3.6365633]]  |[{'iso_3166_1': 'US', 'name': 'United States of America'}]                         |\n",
      "|7340   |[[83, 2.8415718], [169, 2.8415256], [168, 2.841134]] |If you’ve got a taste for terror... take Carrie to the prom.                       |\n",
      "|8592   |[[83, 3.1870253], [169, 3.1869733], [168, 3.186535]] |Dick Tracy                                                                         |\n",
      "+-------+-----------------------------------------------------+-----------------------------------------------------------------------------------+\n",
      "only showing top 20 rows\n",
      "\n"
     ]
    }
   ],
   "source": [
    "df2.show(truncate=False)"
   ]
  },
  {
   "cell_type": "code",
   "execution_count": null,
   "metadata": {},
   "outputs": [],
   "source": []
  }
 ],
 "metadata": {
  "kernelspec": {
   "display_name": "Python 3",
   "language": "python",
   "name": "python3"
  },
  "language_info": {
   "codemirror_mode": {
    "name": "ipython",
    "version": 3
   },
   "file_extension": ".py",
   "mimetype": "text/x-python",
   "name": "python",
   "nbconvert_exporter": "python",
   "pygments_lexer": "ipython3",
   "version": "3.8.2"
  }
 },
 "nbformat": 4,
 "nbformat_minor": 4
}
